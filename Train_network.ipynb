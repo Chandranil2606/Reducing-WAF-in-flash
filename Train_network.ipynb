{
 "cells": [
  {
   "cell_type": "code",
   "execution_count": 2,
   "metadata": {},
   "outputs": [
    {
     "ename": "SyntaxError",
     "evalue": "invalid character in identifier (<ipython-input-2-a5b5f1c0e7a0>, line 14)",
     "output_type": "error",
     "traceback": [
      "\u001b[1;36m  File \u001b[1;32m\"<ipython-input-2-a5b5f1c0e7a0>\"\u001b[1;36m, line \u001b[1;32m14\u001b[0m\n\u001b[1;33m    path_1  = r'C:\\Users\\cchak\\Desktop\\msr_2\\converted\\src2_0'\u001b[0m\n\u001b[1;37m           ^\u001b[0m\n\u001b[1;31mSyntaxError\u001b[0m\u001b[1;31m:\u001b[0m invalid character in identifier\n"
     ]
    }
   ],
   "source": [
    "# Load a file\n",
    "import csv\n",
    "import sys\n",
    "import pandas as pd\n",
    "import os\n",
    "import glob\n",
    "import itertools\n",
    "import numpy as np\n",
    "from collections import Counter\n",
    "import matplotlib.pyplot as plt\n",
    "\n",
    "path = r'/home/chandranil_chakraborttii/data/'\n",
    "all_files = glob.glob(os.path.join(path, \"*rsrch_0*\"))\n",
    "print(len(all_files))\n",
    "\n"
   ]
  },
  {
   "cell_type": "code",
   "execution_count": null,
   "metadata": {},
   "outputs": [],
   "source": [
    "do_work(f,start_position,end_position,queue,process_id,num_CPUs)\n",
    "\n",
    "cols = [Timestamp,Hostname,DiskNumber,Type,Offset,Size,ResponseTime]\n",
    "\n",
    "df = pd.read_csv(f,engine='python',skiprows=1,header=None,na_values=['-1'],index_col=False0)\n",
    "df.columns = cols\n",
    "\n",
    "cols_to_drop = []\n",
    "cols_to_keep = [Timestamp,Type,Offset,Size]\n",
    "\n",
    "\n",
    "for x in cols:\n",
    "if (x not in cols_to_keep):\n",
    "\tcols_to_drop.append(x)\n",
    "\n",
    "\n",
    "\n",
    "df=df.drop(cols_to_drop,axis=1)\n",
    "time_list = df['Timestamp'].tolist()\n",
    "df =df.drop(['Timestamp']),axis=1)"
   ]
  }
 ],
 "metadata": {
  "kernelspec": {
   "display_name": "TensorFlow-GPU-1.13",
   "language": "python",
   "name": "tf-gpu"
  },
  "language_info": {
   "codemirror_mode": {
    "name": "ipython",
    "version": 3
   },
   "file_extension": ".py",
   "mimetype": "text/x-python",
   "name": "python",
   "nbconvert_exporter": "python",
   "pygments_lexer": "ipython3",
   "version": "3.7.6"
  }
 },
 "nbformat": 4,
 "nbformat_minor": 4
}
