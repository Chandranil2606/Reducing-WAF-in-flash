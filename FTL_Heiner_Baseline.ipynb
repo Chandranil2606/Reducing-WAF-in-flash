{
 "cells": [
  {
   "cell_type": "code",
   "execution_count": 82,
   "metadata": {},
   "outputs": [
    {
     "name": "stdout",
     "output_type": "stream",
     "text": [
      "Working with file C:\\Users\\cchak\\Desktop\\Data_ECML\\VDI Traces\\selected_few\\2016031115-LUN2.csv_updated_Heiner.csv\n",
      "273174\n",
      "273174\n"
     ]
    }
   ],
   "source": [
    "import csv\n",
    "import sys\n",
    "import pandas as pd\n",
    "import os\n",
    "import glob\n",
    "import itertools\n",
    "import numpy as np\n",
    "from collections import Counter\n",
    "import copy\n",
    "import math\n",
    "\n",
    "\n",
    "path = r'C:\\Users\\cchak\\Desktop\\Data_ECML\\VDI Traces\\selected_few'\n",
    "all_files = glob.glob(os.path.join(path, \"2016031115-LUN2.csv_updated_Heiner.csv\"))\n",
    "\n",
    "f = all_files[0]  # Change the file name as required\n",
    "print(\"Working with file \" + str(f))\n",
    "cols = ['IO_num','LBA','Size','Deathtime_RWI']\n",
    "df = pd.read_csv(f,engine='python',skiprows =1,header=None,na_values=['-1'], index_col=False)\n",
    "df.columns = cols\n",
    "df['Deathtime_RWI'] = df['Deathtime_RWI'].replace(np.NaN, -1)\n",
    "lba_list = df['LBA'].tolist()\n",
    "\n",
    "print(len(lba_list))\n",
    "print(len(df))"
   ]
  },
  {
   "cell_type": "code",
   "execution_count": 83,
   "metadata": {},
   "outputs": [
    {
     "name": "stdout",
     "output_type": "stream",
     "text": [
      "122072\n",
      "12208\n"
     ]
    }
   ],
   "source": [
    "TB = 1000000000000\n",
    "GB = 1000000000\n",
    "page_size = 4096\n",
    "page_per_block = 10  # Hyper parameter\n",
    "over_provisioning_ratio = 0.3\n",
    "ssd_capacity = (0.5 * GB) \n",
    "GC_THRESHOLD = 3\n",
    "P2L = {}\n",
    "L2P = {}\n",
    "closed_list_blocks = []\n",
    "LOG_PAGE_PER_BLOCK = math.log(page_per_block,2)\n",
    "\n",
    "\n",
    "# Make the block,page and physical addresses for normal and Overprovisioned capacity\n",
    "page_addresses = []\n",
    "block_addresses = []\n",
    "block_placement = 0\n",
    "start_counter = -1\n",
    "block_addresses.append(0)\n",
    "\n",
    "while(start_counter <= (ssd_capacity/page_size)):\n",
    "    start_counter = start_counter + 1\n",
    "    page_addresses.append(int(start_counter))\n",
    "    if(block_placement >= page_per_block):\n",
    "        block_addresses.append(int(start_counter))\n",
    "        block_placement = 0\n",
    "\n",
    "    block_placement = block_placement + 1\n",
    "\n",
    "free_list_block = copy.deepcopy(block_addresses)\n",
    "free_list_page = copy.deepcopy(page_addresses)\n",
    "\n",
    "\n",
    "print(len(page_addresses))\n",
    "print(len(block_addresses))"
   ]
  },
  {
   "cell_type": "code",
   "execution_count": 84,
   "metadata": {},
   "outputs": [
    {
     "name": "stdout",
     "output_type": "stream",
     "text": [
      "12208\n"
     ]
    }
   ],
   "source": [
    "# Defining block_structure\n",
    "block_struct = {}\n",
    "for x in free_list_block:\n",
    "    block_start = x\n",
    "    write_ptr=0\n",
    "    valid_pages=0\n",
    "    valid_bitmap = []\n",
    "    for x in range(page_per_block):\n",
    "        valid_bitmap.append(True)\n",
    "\n",
    "    segment = [block_start,valid_pages,valid_bitmap,write_ptr]\n",
    "    block_struct[block_start]=segment\n",
    "    \n",
    "print(len(block_struct))"
   ]
  },
  {
   "cell_type": "code",
   "execution_count": 85,
   "metadata": {},
   "outputs": [
    {
     "name": "stdout",
     "output_type": "stream",
     "text": [
      "0\n"
     ]
    },
    {
     "ename": "TypeError",
     "evalue": "unsupported operand type(s) for <<: 'int' and 'float'",
     "output_type": "error",
     "traceback": [
      "\u001b[1;31m---------------------------------------------------------------------------\u001b[0m",
      "\u001b[1;31mTypeError\u001b[0m                                 Traceback (most recent call last)",
      "\u001b[1;32m<ipython-input-85-18afc458241e>\u001b[0m in \u001b[0;36m<module>\u001b[1;34m\u001b[0m\n\u001b[0;32m      7\u001b[0m     \u001b[1;32mif\u001b[0m \u001b[0mlba\u001b[0m \u001b[1;32min\u001b[0m \u001b[0mL2P\u001b[0m\u001b[1;33m:\u001b[0m\u001b[1;33m\u001b[0m\u001b[1;33m\u001b[0m\u001b[0m\n\u001b[0;32m      8\u001b[0m         \u001b[0minvalidate_lba\u001b[0m\u001b[1;33m(\u001b[0m\u001b[0mlba\u001b[0m\u001b[1;33m)\u001b[0m\u001b[1;33m\u001b[0m\u001b[1;33m\u001b[0m\u001b[0m\n\u001b[1;32m----> 9\u001b[1;33m     \u001b[0mmap_lba\u001b[0m\u001b[1;33m(\u001b[0m\u001b[0mlba\u001b[0m\u001b[1;33m)\u001b[0m\u001b[1;33m\u001b[0m\u001b[1;33m\u001b[0m\u001b[0m\n\u001b[0m\u001b[0;32m     10\u001b[0m     \u001b[0mcheck_GC\u001b[0m\u001b[1;33m(\u001b[0m\u001b[1;32mFalse\u001b[0m\u001b[1;33m)\u001b[0m\u001b[1;33m\u001b[0m\u001b[1;33m\u001b[0m\u001b[0m\n\u001b[0;32m     11\u001b[0m     \u001b[0mcounter\u001b[0m \u001b[1;33m=\u001b[0m \u001b[0mcounter\u001b[0m \u001b[1;33m+\u001b[0m \u001b[1;36m1\u001b[0m\u001b[1;33m\u001b[0m\u001b[1;33m\u001b[0m\u001b[0m\n",
      "\u001b[1;32m<ipython-input-77-3f82c7d4956e>\u001b[0m in \u001b[0;36mmap_lba\u001b[1;34m(lba)\u001b[0m\n\u001b[0;32m     13\u001b[0m \u001b[1;32mdef\u001b[0m \u001b[0mmap_lba\u001b[0m\u001b[1;33m(\u001b[0m\u001b[0mlba\u001b[0m\u001b[1;33m)\u001b[0m\u001b[1;33m:\u001b[0m\u001b[1;33m\u001b[0m\u001b[1;33m\u001b[0m\u001b[0m\n\u001b[0;32m     14\u001b[0m     \u001b[0mblock_details\u001b[0m \u001b[1;33m=\u001b[0m \u001b[0mblock_struct\u001b[0m\u001b[1;33m[\u001b[0m\u001b[0mcur_block\u001b[0m\u001b[1;33m]\u001b[0m\u001b[1;33m\u001b[0m\u001b[1;33m\u001b[0m\u001b[0m\n\u001b[1;32m---> 15\u001b[1;33m     \u001b[0mphys_addr\u001b[0m \u001b[1;33m=\u001b[0m \u001b[1;33m(\u001b[0m\u001b[0mblock_details\u001b[0m\u001b[1;33m[\u001b[0m\u001b[1;36m0\u001b[0m\u001b[1;33m]\u001b[0m \u001b[1;33m<<\u001b[0m \u001b[0mLOG_PAGE_PER_BLOCK\u001b[0m\u001b[1;33m)\u001b[0m\u001b[1;33m|\u001b[0m \u001b[0mblock_details\u001b[0m\u001b[1;33m[\u001b[0m\u001b[1;36m3\u001b[0m\u001b[1;33m]\u001b[0m\u001b[1;33m\u001b[0m\u001b[1;33m\u001b[0m\u001b[0m\n\u001b[0m\u001b[0;32m     16\u001b[0m     \u001b[0mL2P\u001b[0m\u001b[1;33m[\u001b[0m\u001b[0mlba\u001b[0m\u001b[1;33m]\u001b[0m \u001b[1;33m=\u001b[0m \u001b[0mphys_addr\u001b[0m\u001b[1;33m\u001b[0m\u001b[1;33m\u001b[0m\u001b[0m\n\u001b[0;32m     17\u001b[0m     \u001b[0mP2L\u001b[0m\u001b[1;33m[\u001b[0m\u001b[0mphys_addr\u001b[0m\u001b[1;33m]\u001b[0m \u001b[1;33m=\u001b[0m \u001b[0mlba\u001b[0m\u001b[1;33m\u001b[0m\u001b[1;33m\u001b[0m\u001b[0m\n",
      "\u001b[1;31mTypeError\u001b[0m: unsupported operand type(s) for <<: 'int' and 'float'"
     ]
    }
   ],
   "source": [
    "counter = 0\n",
    "cur_block=free_list.pop()\n",
    "\n",
    "while(counter < len(lba_list)):\n",
    "    print(counter)\n",
    "    lba=lba_list[counter]\n",
    "    if lba in L2P:\n",
    "        invalidate_lba(lba)\n",
    "    map_lba(lba)\n",
    "    check_GC(False)\n",
    "    counter = counter + 1\n",
    "    "
   ]
  },
  {
   "cell_type": "code",
   "execution_count": 77,
   "metadata": {},
   "outputs": [],
   "source": [
    "def invalidate_lba(lba):\n",
    "    prev = L2P[lba]\n",
    "    #note above how phys addresses are formed/concatenated\n",
    "    prev_block = prev >> LOG_PAGE_PER_BLOCK\n",
    "    prev_page = prev % PAGE_PER_BLOCK\n",
    "    block_details = block_struct[prev_block]\n",
    "    \n",
    "    block_details[2] = block_details[2] - 1            # Decreasing valid pages\n",
    "    block_details[3][prev_page] = False                # Setting bitmap to False\n",
    "    \n",
    "    \n",
    "#map LBA to phys\n",
    "def map_lba(lba):\n",
    "    block_details = block_struct[cur_block]\n",
    "    phys_addr = (block_details[0] << LOG_PAGE_PER_BLOCK)| block_details[3]\n",
    "    L2P[lba] = phys_addr\n",
    "    P2L[phys_addr] = lba\n",
    "    block_details[3] = block_details[3] + 1               # Setting valid pages\n",
    "    block_details[2][block_details[3]] = True             # Setting Bitmap\n",
    "    block_details[1] = block_details[1] + 1               # Increasing Write pointer\n",
    "\n",
    "\n",
    "#check if we need to close/open block. Do not perform GC if we are already\n",
    "#doing gc\n",
    "def check_GC (gc_check):\n",
    "    block_details = block_struct[cur_block]\n",
    "    if (block_details[3] == PAGES_PER_BLOCK):\n",
    "        closed_blocks.push(cur_block)\n",
    "        #get new block\n",
    "        if (len(free_list) < GC_THRESHOLD):\n",
    "            if (gc_check != True):\n",
    "                do_greedy_gc()\n",
    "            else:\n",
    "                if (len(free_list) == 0):\n",
    "                    print(\"FAIL WHILE DOING GC, RAN OUT OF BLOCKS\")\n",
    "                else:\n",
    "                    #we are doing GC already, pick the next block from the free list\n",
    "                    cur_block = free_list.pop()\n",
    "\n",
    "\n",
    "def do_greedy_gc():\n",
    "    for x in closed_blocks:\n",
    "        min_val = float('inf')\n",
    "        block_details = block_struct[x]                   \n",
    "        if (block_details[1] < min_val):\n",
    "            min_val = block_details[1]\n",
    "        gc_blk = x\n",
    "        #found the block with minimal valid pages, move all valid pages\n",
    "        for pg in range(PAGES_PER_BLOCK):\n",
    "            #figure out the logical addresses for all phys pages in the gc block\n",
    "            phys_addr = (block_details[gc_blk][0] << LOG_PAGES_PER_BLOCK) | pg\n",
    "            gc_lba = P2L[phys_addr]\n",
    "            invalidate_lba(gc_lba)\n",
    "            #move the gc'ed block to a new location\n",
    "            map_lba(gc_lba)\n",
    "            #check if we need to get a new block\n",
    "            check_GC(True)"
   ]
  },
  {
   "cell_type": "code",
   "execution_count": null,
   "metadata": {},
   "outputs": [],
   "source": []
  }
 ],
 "metadata": {
  "kernelspec": {
   "display_name": "TensorFlow-GPU-1.13",
   "language": "python",
   "name": "tf-gpu"
  },
  "language_info": {
   "codemirror_mode": {
    "name": "ipython",
    "version": 3
   },
   "file_extension": ".py",
   "mimetype": "text/x-python",
   "name": "python",
   "nbconvert_exporter": "python",
   "pygments_lexer": "ipython3",
   "version": "3.7.6"
  }
 },
 "nbformat": 4,
 "nbformat_minor": 4
}
