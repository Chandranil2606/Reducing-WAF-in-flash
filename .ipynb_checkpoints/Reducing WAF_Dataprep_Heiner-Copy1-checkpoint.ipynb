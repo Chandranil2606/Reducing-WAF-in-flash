{
 "cells": [
  {
   "cell_type": "code",
   "execution_count": 1,
   "metadata": {},
   "outputs": [],
   "source": [
    "import csv\n",
    "import sys\n",
    "import pandas as pd\n",
    "import os\n",
    "import glob\n",
    "import itertools\n",
    "import numpy as np\n",
    "from collections import Counter\n",
    "import matplotlib.pyplot as plt"
   ]
  },
  {
   "cell_type": "code",
   "execution_count": 4,
   "metadata": {},
   "outputs": [
    {
     "name": "stdout",
     "output_type": "stream",
     "text": [
      "15\n"
     ]
    }
   ],
   "source": [
    "path = r'C:\\Users\\cchak\\Desktop\\Data_ECML\\VDI Traces\\selected_few'\n",
    "all_files = glob.glob(os.path.join(path, \"*.csv\"))\n",
    "print(len(all_files))"
   ]
  },
  {
   "cell_type": "code",
   "execution_count": 5,
   "metadata": {},
   "outputs": [
    {
     "name": "stdout",
     "output_type": "stream",
     "text": [
      "0 represents 2016022719-LUN3.csv\n",
      "1 represents 2016022817-LUN3.csv\n",
      "2 represents 2016030110-LUN2.csv\n",
      "3 represents 2016030117-LUN2.csv\n",
      "4 represents 2016030214-LUN0.csv\n",
      "5 represents 2016030415-LUN2.csv\n",
      "6 represents 2016030817-LUN2.csv\n",
      "7 represents 2016030819-LUN2.csv\n",
      "8 represents 2016030819-LUN2.csv_updatedCC.csv\n",
      "9 represents 2016030916-LUN2.csv\n",
      "10 represents 2016030917-LUN2.csv\n",
      "11 represents 2016030918-LUN2.csv\n",
      "12 represents 2016031115-LUN2.csv\n",
      "13 represents 2016031115-LUN2.csv_updated_CC.csv\n",
      "14 represents 2016031115-LUN2.csv_updated_Heiner.csv\n"
     ]
    }
   ],
   "source": [
    "x = 0\n",
    "while x < len(all_files):\n",
    "    k= all_files[x].rindex('\\\\')\n",
    "    tmp = all_files[x][k+1:]\n",
    "    print(str(x) + \" represents \" + tmp)\n",
    "    x = x + 1"
   ]
  },
  {
   "cell_type": "code",
   "execution_count": 8,
   "metadata": {},
   "outputs": [
    {
     "name": "stdout",
     "output_type": "stream",
     "text": [
      "Working with file:C:\\Users\\cchak\\Desktop\\Data_ECML\\VDI Traces\\selected_few\\2016031115-LUN2.csv\n",
      "2408228\n"
     ]
    }
   ],
   "source": [
    "f = all_files[12]\n",
    "print(\"Working with file:\" + str(f))\n",
    "cols = ['Timestamp','Response','IOType','LUN','Offset','Size']\n",
    "df = pd.read_csv(f,engine='python',skiprows =1,header=None,na_values=['-1'], index_col=False)\n",
    "df.columns = cols\n",
    "print(len(df))"
   ]
  },
  {
   "cell_type": "code",
   "execution_count": 13,
   "metadata": {},
   "outputs": [
    {
     "name": "stdout",
     "output_type": "stream",
     "text": [
      "C:\\Users\\cchak\\Desktop\\Data_ECML\\VDI Traces\\selected_few\\2016031115-LUN2.csv_dataprep_heiner.csv\n"
     ]
    }
   ],
   "source": [
    "import math\n",
    "\n",
    "lba_list = df['Offset'].tolist()\n",
    "size_list = df['Size'].tolist()\n",
    "new_lba_list = []\n",
    "new_size_list = []\n",
    "\n",
    "# Create empty dataframe\n",
    "df_new = pd.DataFrame(columns = ['LBA','Size'])\n",
    "\n",
    "page_size = 4096\n",
    "write_size = 1\n",
    "counter = -1\n",
    "\n",
    "while(counter < len(lba_list) - 1):\n",
    "    counter = counter + 1\n",
    "    size = size_list[counter]\n",
    "    lba = lba_list[counter]\n",
    "    num_writes = math.ceil(size/page_size)\n",
    "    start = 1\n",
    "    while(start <= num_writes):\n",
    "        new_lba_list.append(lba)\n",
    "        new_size_list.append(write_size)\n",
    "        lba = lba + 1\n",
    "        start = start + 1\n",
    "\n",
    "df_new['LBA'] = new_lba_list\n",
    "df_new['Size'] = new_size_list\n",
    "file_name_write = f + str('_dataprep_heiner.csv')\n",
    "df.to_csv(file_name_write)\n",
    "print(file_name_write)\n"
   ]
  },
  {
   "cell_type": "code",
   "execution_count": null,
   "metadata": {},
   "outputs": [],
   "source": [
    "# Compute death time per LBA and add a column\n",
    "\n",
    "death_time_list = []\n",
    "counter = -1\n",
    "\n",
    "while(counter < len(new_lba_list) - 2):\n",
    "    counter = counter + 1\n",
    "    if(counter >10000 and counter%10000==0):\n",
    "        print(counter)\n",
    "\n",
    "    lba = new_lba_list[counter]\n",
    "\n",
    "    if(new_lba_list.count(lba) == 1):\n",
    "        death_time_list.append(-1)\n",
    "    else:\n",
    "        next_lba_counter = counter + 1 \n",
    "        next_lba = new_lba_list[next_lba_counter]\n",
    "        death_counter = 1\n",
    "        while(next_lba != lba):\n",
    "            next_lba_counter = next_lba_counter + 1\n",
    "            next_lba = new_lba_list[next_lba_counter]\n",
    "            death_counter = death_counter + 1\n",
    "            if(next_lba_counter == len(new_lba_list) - 1):\n",
    "                break\n",
    "        if(next_lba_counter >= len(new_lba_list) - 2):\n",
    "            death_time_list.append(-1)\n",
    "        else:\n",
    "            death_time_list.append(death_counter)\n",
    "      \n",
    "    \n",
    "\n",
    "print(len(death_time_list))\n",
    "print(len(new_lba_list))\n",
    "      \n",
    "        "
   ]
  },
  {
   "cell_type": "code",
   "execution_count": null,
   "metadata": {},
   "outputs": [],
   "source": [
    "df_out = pd.DataFrame(columns = ['LBA','Death_time'])\n",
    "\n",
    "while(len(death_time_list) !=len(new_lba_list)):\n",
    "    new_lba_list.pop()\n",
    "\n",
    "\n",
    "\n",
    "df_out['LBA'] = new_lba_list\n",
    "df_out['Death_time'] = death_time_list"
   ]
  },
  {
   "cell_type": "code",
   "execution_count": null,
   "metadata": {},
   "outputs": [],
   "source": [
    "df_out.to_csv(f + \"_dataprep_heiner_deathtime_Added.csv\")\n",
    "print('Done')"
   ]
  },
  {
   "cell_type": "code",
   "execution_count": null,
   "metadata": {},
   "outputs": [],
   "source": []
  }
 ],
 "metadata": {
  "kernelspec": {
   "display_name": "Python 3",
   "language": "python",
   "name": "python3"
  },
  "language_info": {
   "codemirror_mode": {
    "name": "ipython",
    "version": 3
   },
   "file_extension": ".py",
   "mimetype": "text/x-python",
   "name": "python",
   "nbconvert_exporter": "python",
   "pygments_lexer": "ipython3",
   "version": "3.7.6"
  }
 },
 "nbformat": 4,
 "nbformat_minor": 4
}
