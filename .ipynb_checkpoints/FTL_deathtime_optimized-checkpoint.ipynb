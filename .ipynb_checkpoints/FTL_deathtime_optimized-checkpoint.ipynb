{
 "cells": [
  {
   "cell_type": "code",
   "execution_count": 237,
   "metadata": {},
   "outputs": [
    {
     "name": "stdout",
     "output_type": "stream",
     "text": [
      "Working with file C:\\Users\\cchak\\Desktop\\Data_ECML\\VDI Traces\\selected_few\\2016031115-LUN2.csv_updated_Heiner.csv\n",
      "273174\n"
     ]
    }
   ],
   "source": [
    "# Loading required libraries\n",
    "import csv\n",
    "import sys\n",
    "import pandas as pd\n",
    "import os\n",
    "import glob\n",
    "import itertools\n",
    "import numpy as np\n",
    "from collections import Counter\n",
    "import copy\n",
    "import math\n",
    "\n",
    "\n",
    "\n",
    "# Loading trace : Needs to expanded into 4K chunks\n",
    "path = r'C:\\Users\\cchak\\Desktop\\Data_ECML\\VDI Traces\\selected_few'\n",
    "all_files = glob.glob(os.path.join(path, \"2016031115-LUN2.csv_updated_Heiner.csv\"))\n",
    "\n",
    "f = all_files[0]  # Change the file name as required\n",
    "print(\"Working with file \" + str(f))\n",
    "cols = ['IO_num','LBA','Size','Deathtime_RWI']\n",
    "df = pd.read_csv(f,engine='python',skiprows =1,header=None,na_values=['-1'], index_col=False)\n",
    "df.columns = cols\n",
    "df['Deathtime_RWI'] = df['Deathtime_RWI'].replace(np.NaN, -1)\n",
    "lba_list = df['LBA'].tolist()\n",
    "print(len(df))"
   ]
  },
  {
   "cell_type": "code",
   "execution_count": 238,
   "metadata": {},
   "outputs": [
    {
     "name": "stdout",
     "output_type": "stream",
     "text": [
      "117976\n",
      "7374\n"
     ]
    }
   ],
   "source": [
    "# SSD specifications\n",
    "\n",
    "TB = 1000000000000\n",
    "GB = 1000000000\n",
    "page_size = 4096\n",
    "page_per_block = 16  # Hyper parameter \n",
    "over_provisioning_ratio = 0.3\n",
    "ssd_capacity = (0.5 * GB) \n",
    "LOG_PAGE_PER_BLOCK = int(math.log(page_per_block,2))\n",
    "\n",
    "\n",
    "# Make the block,page and physical addresses for normal and Overprovisioned capacity\n",
    "page_addresses = []\n",
    "block_addresses = []\n",
    "block_placement = 0\n",
    "start_counter = -1\n",
    "block_addresses.append(0)\n",
    "\n",
    "while(start_counter < (ssd_capacity/page_size) - page_size):\n",
    "    start_counter = start_counter + 1\n",
    "    page_addresses.append(int(start_counter))\n",
    "    if(block_placement >= page_per_block):\n",
    "        block_addresses.append(int(start_counter))\n",
    "        block_placement = 0\n",
    "\n",
    "    block_placement = block_placement + 1\n",
    "\n",
    "free_list_block = copy.deepcopy(block_addresses)\n",
    "free_list_page = copy.deepcopy(page_addresses)\n",
    "\n",
    "\n",
    "print(len(page_addresses))\n",
    "print(len(block_addresses))"
   ]
  },
  {
   "cell_type": "code",
   "execution_count": 239,
   "metadata": {},
   "outputs": [
    {
     "name": "stdout",
     "output_type": "stream",
     "text": [
      "7374\n"
     ]
    }
   ],
   "source": [
    "# Defining block_structure\n",
    "\n",
    "block_struct = {}\n",
    "for x in free_list_block:\n",
    "    start_lba = x\n",
    "    write_ptr=0\n",
    "    invalid_pages=0\n",
    "    valid_bitmap = []\n",
    "    for x in range(page_per_block):\n",
    "        valid_bitmap.append(False)\n",
    "\n",
    "    segment = [start_lba,invalid_pages,valid_bitmap,write_ptr]\n",
    "    block_struct[start_lba]=segment\n",
    "    \n",
    "print(len(block_struct))\n"
   ]
  },
  {
   "cell_type": "code",
   "execution_count": 240,
   "metadata": {},
   "outputs": [],
   "source": [
    "# Block structure : Dictionary  # Key: Block_address_start    #Value: [valid_pages,valid_bitmap,write_ptr]\n",
    "\n",
    "def invalidate_lba(lba):\n",
    "    prev = L2P[lba]\n",
    "    #note above how phys addresses are formed/concatenated\n",
    "    prev_block = (prev >> LOG_PAGE_PER_BLOCK)*page_per_block\n",
    "    prev_page = prev % page_per_block\n",
    "    block_details = block_struct[prev_block]                                 # Getting block details\n",
    "    block_struct[prev_block][1] = block_struct[prev_block][1] - 1            # Decreasing invalid pages\n",
    "    block_struct[prev_block][2][prev_page] = False                          # Setting bitmap to False\n",
    "    L2P.pop(lba)\n",
    "    \n",
    "    \n",
    "#map LBA to phys\n",
    "def map_lba(lba,cur_block):\n",
    "    phys_addr = block_struct[cur_block][0] + (block_struct[cur_block][3])\n",
    "    L2P[lba] = phys_addr\n",
    "    P2L[phys_addr] = lba   \n",
    "    block_struct[cur_block][2][block_struct[cur_block][3]] = True             # Setting Bitmap\n",
    "    block_struct[cur_block][1] = block_struct[cur_block][1] + 1               # Increasing invalid pages\n",
    "    block_struct[cur_block][3] = block_struct[cur_block][3] + 1               # Increasing Write pointer\n",
    "\n",
    "\n",
    "    \n",
    "\n",
    "#check if we need to close/open block. Do not perform GC if we are already\n",
    "#doing gc\n",
    "def check_GC (cur_block, in_gc):\n",
    "    if (block_struct[cur_block][3] < (page_per_block)):\n",
    "        return cur_block\n",
    "    else:\n",
    "        closed_blocks.append(cur_block)\n",
    "        if(len(free_list_block) == 0):\n",
    "            print(\"FAIL WHILE DOING GC, RAN OUT OF BLOCKS\") \n",
    "        elif (len(free_list_block) <= GC_THRESHOLD):\n",
    "            if(in_gc != True):\n",
    "                print(\"GC called\")\n",
    "                in_gc = do_greedy_gc(cur_block,in_gc)\n",
    "        elif(len(free_list_block) == 0):\n",
    "            print(\"FAIL WHILE DOING GC, RAN OUT OF BLOCKS\")     \n",
    "        if(block_struct[cur_block][3] == (page_per_block)):\n",
    "            cur_block = free_list_block.pop(0)\n",
    "            return cur_block\n",
    "\n",
    "\n",
    "\n",
    "def do_greedy_gc(cur_block,in_gc):\n",
    "    in_gc = True\n",
    "    gc_writes = 0\n",
    "    for x in closed_blocks:\n",
    "        min_val = float('inf')              \n",
    "        if (block_struct[x][1] < min_val):\n",
    "            min_val = block_struct[x][0]\n",
    "        gc_blk = x\n",
    "        #found the block with minimal valid pages, move all valid pages\n",
    "        for pg in range(page_per_block):\n",
    "            #figure out the logical addresses for all phys pages in the gc block\n",
    "            phys_addr = block_struct[x][0] + pg\n",
    "            gc_lba = P2L[phys_addr]\n",
    "            invalidate_lba(gc_lba)\n",
    "            #check if we need to get a new block\n",
    "            cur_block = check_GC(cur_block,in_gc)\n",
    "            #move the gc'ed block t-o a new location\n",
    "            map_lba(gc_lba,cur_block)\n",
    "            if(block_struct[gc_blk])\n",
    "            gc_writes = gc_writes + 1\n",
    "        block_struct[gc_blk][3]=1\n",
    "        closed_blocks.remove(gc_blk)\n",
    "        free_list_block.append(gc_blk)\n",
    "    in_gc = False\n",
    "    print(gc_writes)\n",
    "    return in_gc\n",
    "    "
   ]
  },
  {
   "cell_type": "code",
   "execution_count": 241,
   "metadata": {},
   "outputs": [
    {
     "name": "stdout",
     "output_type": "stream",
     "text": [
      "GC called\n",
      "99472\n",
      "GC called\n",
      "106608\n",
      "GC called\n",
      "114240\n",
      "GC called\n",
      "FAIL WHILE DOING GC, RAN OUT OF BLOCKS\n"
     ]
    },
    {
     "ename": "IndexError",
     "evalue": "pop from empty list",
     "output_type": "error",
     "traceback": [
      "\u001b[1;31m---------------------------------------------------------------------------\u001b[0m",
      "\u001b[1;31mIndexError\u001b[0m                                Traceback (most recent call last)",
      "\u001b[1;32m<ipython-input-241-4ad0d9139892>\u001b[0m in \u001b[0;36m<module>\u001b[1;34m\u001b[0m\n\u001b[0;32m     16\u001b[0m     \u001b[1;32mif\u001b[0m \u001b[0mlba\u001b[0m \u001b[1;32min\u001b[0m \u001b[0mL2P\u001b[0m\u001b[1;33m:\u001b[0m\u001b[1;33m\u001b[0m\u001b[1;33m\u001b[0m\u001b[0m\n\u001b[0;32m     17\u001b[0m         \u001b[0minvalidate_lba\u001b[0m\u001b[1;33m(\u001b[0m\u001b[0mlba\u001b[0m\u001b[1;33m)\u001b[0m\u001b[1;33m\u001b[0m\u001b[1;33m\u001b[0m\u001b[0m\n\u001b[1;32m---> 18\u001b[1;33m     \u001b[0mcur_block\u001b[0m \u001b[1;33m=\u001b[0m \u001b[0mcheck_GC\u001b[0m\u001b[1;33m(\u001b[0m\u001b[0mcur_block\u001b[0m\u001b[1;33m,\u001b[0m\u001b[0min_gc\u001b[0m\u001b[1;33m)\u001b[0m\u001b[1;33m\u001b[0m\u001b[1;33m\u001b[0m\u001b[0m\n\u001b[0m\u001b[0;32m     19\u001b[0m     \u001b[0mmap_lba\u001b[0m\u001b[1;33m(\u001b[0m\u001b[0mlba\u001b[0m\u001b[1;33m,\u001b[0m\u001b[0mcur_block\u001b[0m\u001b[1;33m)\u001b[0m\u001b[1;33m\u001b[0m\u001b[1;33m\u001b[0m\u001b[0m\n\u001b[0;32m     20\u001b[0m     \u001b[1;31m#print(block_struct[cur_block])\u001b[0m\u001b[1;33m\u001b[0m\u001b[1;33m\u001b[0m\u001b[1;33m\u001b[0m\u001b[0m\n",
      "\u001b[1;32m<ipython-input-240-4e4ceaa1723a>\u001b[0m in \u001b[0;36mcheck_GC\u001b[1;34m(cur_block, in_gc)\u001b[0m\n\u001b[0;32m     39\u001b[0m             \u001b[1;32mif\u001b[0m\u001b[1;33m(\u001b[0m\u001b[0min_gc\u001b[0m \u001b[1;33m!=\u001b[0m \u001b[1;32mTrue\u001b[0m\u001b[1;33m)\u001b[0m\u001b[1;33m:\u001b[0m\u001b[1;33m\u001b[0m\u001b[1;33m\u001b[0m\u001b[0m\n\u001b[0;32m     40\u001b[0m                 \u001b[0mprint\u001b[0m\u001b[1;33m(\u001b[0m\u001b[1;34m\"GC called\"\u001b[0m\u001b[1;33m)\u001b[0m\u001b[1;33m\u001b[0m\u001b[1;33m\u001b[0m\u001b[0m\n\u001b[1;32m---> 41\u001b[1;33m                 \u001b[0min_gc\u001b[0m \u001b[1;33m=\u001b[0m \u001b[0mdo_greedy_gc\u001b[0m\u001b[1;33m(\u001b[0m\u001b[0mcur_block\u001b[0m\u001b[1;33m,\u001b[0m\u001b[0min_gc\u001b[0m\u001b[1;33m)\u001b[0m\u001b[1;33m\u001b[0m\u001b[1;33m\u001b[0m\u001b[0m\n\u001b[0m\u001b[0;32m     42\u001b[0m         \u001b[1;32melif\u001b[0m\u001b[1;33m(\u001b[0m\u001b[0mlen\u001b[0m\u001b[1;33m(\u001b[0m\u001b[0mfree_list_block\u001b[0m\u001b[1;33m)\u001b[0m \u001b[1;33m==\u001b[0m \u001b[1;36m0\u001b[0m\u001b[1;33m)\u001b[0m\u001b[1;33m:\u001b[0m\u001b[1;33m\u001b[0m\u001b[1;33m\u001b[0m\u001b[0m\n\u001b[0;32m     43\u001b[0m             \u001b[0mprint\u001b[0m\u001b[1;33m(\u001b[0m\u001b[1;34m\"FAIL WHILE DOING GC, RAN OUT OF BLOCKS\"\u001b[0m\u001b[1;33m)\u001b[0m\u001b[1;33m\u001b[0m\u001b[1;33m\u001b[0m\u001b[0m\n",
      "\u001b[1;32m<ipython-input-240-4e4ceaa1723a>\u001b[0m in \u001b[0;36mdo_greedy_gc\u001b[1;34m(cur_block, in_gc)\u001b[0m\n\u001b[0;32m     63\u001b[0m             \u001b[0minvalidate_lba\u001b[0m\u001b[1;33m(\u001b[0m\u001b[0mgc_lba\u001b[0m\u001b[1;33m)\u001b[0m\u001b[1;33m\u001b[0m\u001b[1;33m\u001b[0m\u001b[0m\n\u001b[0;32m     64\u001b[0m             \u001b[1;31m#check if we need to get a new block\u001b[0m\u001b[1;33m\u001b[0m\u001b[1;33m\u001b[0m\u001b[1;33m\u001b[0m\u001b[0m\n\u001b[1;32m---> 65\u001b[1;33m             \u001b[0mcur_block\u001b[0m \u001b[1;33m=\u001b[0m \u001b[0mcheck_GC\u001b[0m\u001b[1;33m(\u001b[0m\u001b[0mcur_block\u001b[0m\u001b[1;33m,\u001b[0m\u001b[0min_gc\u001b[0m\u001b[1;33m)\u001b[0m\u001b[1;33m\u001b[0m\u001b[1;33m\u001b[0m\u001b[0m\n\u001b[0m\u001b[0;32m     66\u001b[0m             \u001b[1;31m#move the gc'ed block t-o a new location\u001b[0m\u001b[1;33m\u001b[0m\u001b[1;33m\u001b[0m\u001b[1;33m\u001b[0m\u001b[0m\n\u001b[0;32m     67\u001b[0m             \u001b[0mmap_lba\u001b[0m\u001b[1;33m(\u001b[0m\u001b[0mgc_lba\u001b[0m\u001b[1;33m,\u001b[0m\u001b[0mcur_block\u001b[0m\u001b[1;33m)\u001b[0m\u001b[1;33m\u001b[0m\u001b[1;33m\u001b[0m\u001b[0m\n",
      "\u001b[1;32m<ipython-input-240-4e4ceaa1723a>\u001b[0m in \u001b[0;36mcheck_GC\u001b[1;34m(cur_block, in_gc)\u001b[0m\n\u001b[0;32m     43\u001b[0m             \u001b[0mprint\u001b[0m\u001b[1;33m(\u001b[0m\u001b[1;34m\"FAIL WHILE DOING GC, RAN OUT OF BLOCKS\"\u001b[0m\u001b[1;33m)\u001b[0m\u001b[1;33m\u001b[0m\u001b[1;33m\u001b[0m\u001b[0m\n\u001b[0;32m     44\u001b[0m         \u001b[1;32mif\u001b[0m\u001b[1;33m(\u001b[0m\u001b[0mblock_struct\u001b[0m\u001b[1;33m[\u001b[0m\u001b[0mcur_block\u001b[0m\u001b[1;33m]\u001b[0m\u001b[1;33m[\u001b[0m\u001b[1;36m3\u001b[0m\u001b[1;33m]\u001b[0m \u001b[1;33m==\u001b[0m \u001b[1;33m(\u001b[0m\u001b[0mpage_per_block\u001b[0m\u001b[1;33m)\u001b[0m\u001b[1;33m)\u001b[0m\u001b[1;33m:\u001b[0m\u001b[1;33m\u001b[0m\u001b[1;33m\u001b[0m\u001b[0m\n\u001b[1;32m---> 45\u001b[1;33m             \u001b[0mcur_block\u001b[0m \u001b[1;33m=\u001b[0m \u001b[0mfree_list_block\u001b[0m\u001b[1;33m.\u001b[0m\u001b[0mpop\u001b[0m\u001b[1;33m(\u001b[0m\u001b[1;36m0\u001b[0m\u001b[1;33m)\u001b[0m\u001b[1;33m\u001b[0m\u001b[1;33m\u001b[0m\u001b[0m\n\u001b[0m\u001b[0;32m     46\u001b[0m             \u001b[1;32mreturn\u001b[0m \u001b[0mcur_block\u001b[0m\u001b[1;33m\u001b[0m\u001b[1;33m\u001b[0m\u001b[0m\n\u001b[0;32m     47\u001b[0m \u001b[1;33m\u001b[0m\u001b[0m\n",
      "\u001b[1;31mIndexError\u001b[0m: pop from empty list"
     ]
    }
   ],
   "source": [
    "# Core simulation of trace\n",
    "L2P = {}\n",
    "P2L = {}\n",
    "counter = 0\n",
    "GC_THRESHOLD = 0.2*len(block_addresses)\n",
    "closed_blocks = []\n",
    "cur_block = free_list_block.pop(0)\n",
    "block_details = block_struct[cur_block]\n",
    "global in_gc \n",
    "in_gc = False\n",
    "global gc_writes\n",
    "gc_writes = 0\n",
    "\n",
    "while(counter < len(lba_list)):\n",
    "    lba=int(lba_list[counter])\n",
    "    if lba in L2P:\n",
    "        invalidate_lba(lba)\n",
    "    cur_block = check_GC(cur_block,in_gc)\n",
    "    map_lba(lba,cur_block)\n",
    "    #print(block_struct[cur_block])\n",
    "    counter = counter + 1\n",
    "    "
   ]
  },
  {
   "cell_type": "code",
   "execution_count": null,
   "metadata": {},
   "outputs": [],
   "source": []
  },
  {
   "cell_type": "code",
   "execution_count": null,
   "metadata": {},
   "outputs": [],
   "source": []
  },
  {
   "cell_type": "code",
   "execution_count": null,
   "metadata": {},
   "outputs": [],
   "source": []
  }
 ],
 "metadata": {
  "kernelspec": {
   "display_name": "TensorFlow-GPU-1.13",
   "language": "python",
   "name": "tf-gpu"
  },
  "language_info": {
   "codemirror_mode": {
    "name": "ipython",
    "version": 3
   },
   "file_extension": ".py",
   "mimetype": "text/x-python",
   "name": "python",
   "nbconvert_exporter": "python",
   "pygments_lexer": "ipython3",
   "version": "3.7.6"
  }
 },
 "nbformat": 4,
 "nbformat_minor": 4
}
