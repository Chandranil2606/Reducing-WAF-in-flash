{
 "cells": [
  {
   "cell_type": "code",
   "execution_count": 1,
   "metadata": {},
   "outputs": [
    {
     "name": "stdout",
     "output_type": "stream",
     "text": [
      "['selected_few', 'systor17-01', 'systor17-02', 'systor17-03', 'systor17-04', 'systor17-05', 'systor17-06', 'systor17-07', 'systor17-08', 'systor17-09', 'systor17-10', 'systor17-11', 'systor17-12', 'systor17-13', 'systor17-14', 'systor17-15', 'systor17-16', 'systor17-17', 'systor17-18', 'systor17-19', 'systor17-20', 'systor17-21', 'systor17-22', 'systor17-23', 'systor17-24', 'systor17-25', 'systor17-26', 'systor17-27', 'systor17-28', 'systor17-29', 'systor17-30', 'systor17-31', 'systor17-32', 'systor17-33', 'systor17-34', 'systor17-35', 'systor17-36', 'systor17-37', 'systor17-38', 'systor17-39', 'systor17-40', 'systor17-41', 'systor17-42', 'systor17-43', 'systor17-44', 'systor17-additional-01.tar', 'systor17-additional-02.tar', 'systor17-additional-03.tar', 'systor17-additional-04.tar', 'systor17-additional-05.tar', 'systor17-additional-06.tar', 'systor17-additional-07.tar', 'systor17-additional-08.tar', 'systor17-additional-09.tar', 'systor17-additional-10.tar', 'systor17-additional-omitted.tar']\n"
     ]
    }
   ],
   "source": [
    "# Load a file\n",
    "\n",
    "import csv\n",
    "import sys\n",
    "import pandas as pd\n",
    "import os\n",
    "import glob\n",
    "import itertools\n",
    "import numpy as np\n",
    "from collections import Counter\n",
    "import matplotlib.pyplot as plt\n",
    "import collections\n",
    "\n",
    "path= r'C:\\Users\\cchak\\Desktop\\Data_ECML\\VDI Traces'\n",
    "# all_files = glob.glob(os.path.join(path, \"2016031115-LUN2.csv\"))\n",
    "# print(len(all_files))\n",
    "\n",
    "arr = os.listdir(path)\n",
    "print(arr)\n",
    "\n",
    "\n",
    "\n"
   ]
  },
  {
   "cell_type": "code",
   "execution_count": 4,
   "metadata": {},
   "outputs": [],
   "source": [
    "arr.remove('systor17-04')"
   ]
  },
  {
   "cell_type": "code",
   "execution_count": 12,
   "metadata": {},
   "outputs": [
    {
     "name": "stdout",
     "output_type": "stream",
     "text": [
      "C:\\Users\\cchak\\Desktop\\Data_ECML\\VDI Traces\\systor17-11\\2016022719-LUN3.csv\n",
      "C:\\Users\\cchak\\Desktop\\Data_ECML\\VDI Traces\\systor17-12\\2016022817-LUN3.csv\n",
      "C:\\Users\\cchak\\Desktop\\Data_ECML\\VDI Traces\\systor17-15\\2016030110-LUN2.csv\n",
      "C:\\Users\\cchak\\Desktop\\Data_ECML\\VDI Traces\\systor17-16\\2016030117-LUN2.csv\n",
      "C:\\Users\\cchak\\Desktop\\Data_ECML\\VDI Traces\\systor17-17\\2016030214-LUN0.csv\n",
      "C:\\Users\\cchak\\Desktop\\Data_ECML\\VDI Traces\\systor17-20\\2016030415-LUN2.csv\n",
      "C:\\Users\\cchak\\Desktop\\Data_ECML\\VDI Traces\\systor17-26\\2016030817-LUN2.csv\n",
      "C:\\Users\\cchak\\Desktop\\Data_ECML\\VDI Traces\\systor17-27\\2016030819-LUN2.csv\n",
      "C:\\Users\\cchak\\Desktop\\Data_ECML\\VDI Traces\\systor17-27\\2016030819-LUN2.csv\n",
      "C:\\Users\\cchak\\Desktop\\Data_ECML\\VDI Traces\\systor17-28\\2016030917-LUN2.csv\n",
      "C:\\Users\\cchak\\Desktop\\Data_ECML\\VDI Traces\\systor17-28\\2016030916-LUN2.csv\n",
      "C:\\Users\\cchak\\Desktop\\Data_ECML\\VDI Traces\\systor17-28\\2016030918-LUN2.csv\n",
      "C:\\Users\\cchak\\Desktop\\Data_ECML\\VDI Traces\\systor17-32\\2016031115-LUN2.csv\n"
     ]
    }
   ],
   "source": [
    "from collections import Counter\n",
    "selected_files = ['2016031115-LUN2.csv','2016030817-LUN2.csv','2016022315-LUN2.csv','2016030917-LUN2.csv','2016030819-LUN2.csv',\n",
    "                 '2016030819-LUN2.csv','2016030916-LUN2.csv','2016030110-LUN2.csv','2016030415-LUN2.csv','2016022117-LUN3.csv',\n",
    "                 '2016022020-LUN4.csv','2016022116-LUN3.csv','2016030214-LUN0.csv','2016022817-LUN3.csv','2016022719-LUN3.csv',\n",
    "                 '2016030918-LUN2.csv','2016030117-LUN2.csv']\n",
    "\n",
    "for f in arr:\n",
    "    if 'systor' in f:\n",
    "        new_path =path + \"\\\\\"+ f\n",
    "        all_files = glob.glob(os.path.join(new_path, \"*.csv\"))\n",
    "        for f in selected_files:\n",
    "            for x in all_files:\n",
    "                if(f in x):\n",
    "                    filename = new_path + \"\\\\\" + str(f)\n",
    "                    print(filename)\n",
    "#                     col_1 = ['Timestamp','Response','IOType','LUN','Offset','Size']\n",
    "#                     df = pd.read_csv(new_path,engine='python',skiprows =1,header=None,na_values=['-1'], index_col=False)\n",
    "#                     df.columns = col_1\n",
    "#                     print(len(df))\n",
    "#                     lba_list = df['Offset'].tolist()\n",
    "#                     common_list_dict = Counter(lba_list).most_common(1000)\n",
    "#                     common_list = []\n",
    "#                     for x in common_list_dict:\n",
    "#                         common_list.append(x[0])\n",
    "#                     coverage = 0\n",
    "#                     for x in common_list_dict:\n",
    "#                         if x[0] in common_list:\n",
    "#                             coverage = coverage + x[1]\n",
    "#                     print(\"FileName with PATH  :\" + new_path)\n",
    "#                     print(\"Coverage for top \" + str(len(common_list)) +\" LBA is \" + str((coverage/len(df))*100) +\" %\")\n",
    "                \n",
    "\n",
    "                \n",
    "                \n",
    "                \n",
    "\n",
    "\n",
    "\n",
    "\n",
    "\n",
    "\n",
    "\n",
    "        \n",
    "\n",
    "                "
   ]
  },
  {
   "cell_type": "code",
   "execution_count": null,
   "metadata": {},
   "outputs": [],
   "source": []
  }
 ],
 "metadata": {
  "kernelspec": {
   "display_name": "TensorFlow-GPU-1.13",
   "language": "python",
   "name": "tf-gpu"
  },
  "language_info": {
   "codemirror_mode": {
    "name": "ipython",
    "version": 3
   },
   "file_extension": ".py",
   "mimetype": "text/x-python",
   "name": "python",
   "nbconvert_exporter": "python",
   "pygments_lexer": "ipython3",
   "version": "3.7.6"
  }
 },
 "nbformat": 4,
 "nbformat_minor": 4
}
