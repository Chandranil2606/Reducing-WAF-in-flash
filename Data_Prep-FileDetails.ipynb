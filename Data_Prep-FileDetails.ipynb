{
 "cells": [
  {
   "cell_type": "code",
   "execution_count": 6,
   "metadata": {},
   "outputs": [
    {
     "name": "stdout",
     "output_type": "stream",
     "text": [
      "12\n"
     ]
    }
   ],
   "source": [
    "# Load a file\n",
    "\n",
    "import csv\n",
    "import sys\n",
    "import pandas as pd\n",
    "import os\n",
    "import glob\n",
    "import itertools\n",
    "import numpy as np\n",
    "from collections import Counter\n",
    "import collections\n",
    "\n",
    "\n",
    "path= r'C:\\Users\\cchak\\Desktop\\Data_ECML\\VDI Traces\\selected_few'\n",
    "all_files = glob.glob(os.path.join(path, \"*.csv\"))\n",
    "print(len(all_files))"
   ]
  },
  {
   "cell_type": "code",
   "execution_count": 7,
   "metadata": {},
   "outputs": [
    {
     "name": "stdout",
     "output_type": "stream",
     "text": [
      "Working with file C:\\Users\\cchak\\Desktop\\Data_ECML\\VDI Traces\\selected_few\\2016022719-LUN3.csv\n",
      "782802\n",
      "Coverage for top 1000 LBA is 14.311792764964832 %\n",
      "Coverage for top 1000 LBA Delta is 56.794949425269735 %\n",
      "Working with file C:\\Users\\cchak\\Desktop\\Data_ECML\\VDI Traces\\selected_few\\2016022817-LUN3.csv\n",
      "1571536\n",
      "Coverage for top 1000 LBA is 7.540711762250435 %\n",
      "Coverage for top 1000 LBA Delta is 56.64948178088189 %\n",
      "Working with file C:\\Users\\cchak\\Desktop\\Data_ECML\\VDI Traces\\selected_few\\2016030110-LUN2.csv\n",
      "5063558\n",
      "Coverage for top 1000 LBA is 55.597032758388465 %\n",
      "Coverage for top 1000 LBA Delta is 49.667210289681684 %\n",
      "Working with file C:\\Users\\cchak\\Desktop\\Data_ECML\\VDI Traces\\selected_few\\2016030117-LUN2.csv\n",
      "2699423\n",
      "Coverage for top 1000 LBA is 53.09986615658235 %\n",
      "Coverage for top 1000 LBA Delta is 55.911281781328825 %\n",
      "Working with file C:\\Users\\cchak\\Desktop\\Data_ECML\\VDI Traces\\selected_few\\2016030214-LUN0.csv\n",
      "1786682\n",
      "Coverage for top 1000 LBA is 48.05846815493748 %\n",
      "Coverage for top 1000 LBA Delta is 56.81548255369451 %\n",
      "Working with file C:\\Users\\cchak\\Desktop\\Data_ECML\\VDI Traces\\selected_few\\2016030415-LUN2.csv\n",
      "1825907\n",
      "Coverage for top 1000 LBA is 52.26136928112987 %\n",
      "Coverage for top 1000 LBA Delta is 61.19736656905308 %\n",
      "Working with file C:\\Users\\cchak\\Desktop\\Data_ECML\\VDI Traces\\selected_few\\2016030817-LUN2.csv\n",
      "4443487\n",
      "Coverage for top 1000 LBA is 70.08781616779794 %\n",
      "Coverage for top 1000 LBA Delta is 64.30494789339993 %\n",
      "Working with file C:\\Users\\cchak\\Desktop\\Data_ECML\\VDI Traces\\selected_few\\2016030819-LUN2.csv\n",
      "2902328\n",
      "Coverage for top 1000 LBA is 69.80923589614957 %\n",
      "Coverage for top 1000 LBA Delta is 69.36435165150183 %\n",
      "Working with file C:\\Users\\cchak\\Desktop\\Data_ECML\\VDI Traces\\selected_few\\2016030916-LUN2.csv\n",
      "3756950\n",
      "Coverage for top 1000 LBA is 61.45037863160277 %\n",
      "Coverage for top 1000 LBA Delta is 60.070110062683824 %\n",
      "Working with file C:\\Users\\cchak\\Desktop\\Data_ECML\\VDI Traces\\selected_few\\2016030917-LUN2.csv\n",
      "2472671\n",
      "Coverage for top 1000 LBA is 57.71386488538103 %\n",
      "Coverage for top 1000 LBA Delta is 58.11812408525032 %\n",
      "Working with file C:\\Users\\cchak\\Desktop\\Data_ECML\\VDI Traces\\selected_few\\2016030918-LUN2.csv\n",
      "4555252\n",
      "Coverage for top 1000 LBA is 62.20479130463035 %\n",
      "Coverage for top 1000 LBA Delta is 56.16170082357683 %\n",
      "Working with file C:\\Users\\cchak\\Desktop\\Data_ECML\\VDI Traces\\selected_few\\2016031115-LUN2.csv\n",
      "2408228\n",
      "Coverage for top 1000 LBA is 72.34539254588852 %\n",
      "Coverage for top 1000 LBA Delta is 69.13984057987865 %\n"
     ]
    }
   ],
   "source": [
    "for f in all_files:\n",
    "    print(\"Working with file \" + str(f))\n",
    "    cols = ['Timestamp','Response','IOType','LUN','Offset','Size']\n",
    "    df = pd.read_csv(f,engine='python',skiprows =1,header=None,na_values=['-1'], index_col=False)\n",
    "    df.columns = cols\n",
    "    print(len(df))\n",
    "    lba_list = df['Offset'].tolist()\n",
    "    \n",
    "    common_list_dict = Counter(lba_list).most_common(1000)\n",
    "    common_list = []\n",
    "    for x in common_list_dict:\n",
    "        common_list.append(x[0])\n",
    "    coverage = 0\n",
    "    for x in common_list_dict:\n",
    "        if x[0] in common_list:\n",
    "            coverage = coverage + x[1]\n",
    "    \n",
    "    print(\"Coverage for top \" + str(len(common_list)) +\" LBA is \" + str((coverage/len(df))*100) +\" %\")\n",
    "    \n",
    "    lba_delta_list = [abs(j-i) for i,j in zip(lba_list, lba_list[1:])]\n",
    "    common_list_dict_delta = Counter(lba_delta_list).most_common(1000)\n",
    "    common_list = []\n",
    "    for x in common_list_dict_delta:\n",
    "        common_list.append(x[0])\n",
    "    coverage = 0\n",
    "    for x in common_list_dict_delta:\n",
    "        if x[0] in common_list:\n",
    "            coverage = coverage + x[1]\n",
    "    \n",
    "    print(\"Coverage for top \" + str(len(common_list)) +\" LBA Delta is \" + str((coverage/len(df))*100) +\" %\")"
   ]
  },
  {
   "cell_type": "code",
   "execution_count": null,
   "metadata": {},
   "outputs": [],
   "source": [
    "for f in all_files:\n",
    "    print(\"Working with file \" + str(f))\n",
    "    cols = ['Timestamp','Response','IOType','LUN','Offset','Size']\n",
    "    df = pd.read_csv(f,engine='python',skiprows =1,header=None,na_values=['-1'], index_col=False)\n",
    "    df.columns = cols\n",
    "    print(len(df))\n",
    "    \n",
    "    lba_list = df['Offset'].tolist()\n",
    "    size_list = df['Size'].tolist()\n",
    "    \n",
    "    "
   ]
  },
  {
   "cell_type": "code",
   "execution_count": 1,
   "metadata": {},
   "outputs": [
    {
     "name": "stdout",
     "output_type": "stream",
     "text": [
      "Hello\n"
     ]
    }
   ],
   "source": [
    "print(\"Hello\")"
   ]
  },
  {
   "cell_type": "code",
   "execution_count": null,
   "metadata": {},
   "outputs": [],
   "source": []
  }
 ],
 "metadata": {
  "kernelspec": {
   "display_name": "TensorFlow-GPU-1.13",
   "language": "python",
   "name": "tf-gpu"
  },
  "language_info": {
   "codemirror_mode": {
    "name": "ipython",
    "version": 3
   },
   "file_extension": ".py",
   "mimetype": "text/x-python",
   "name": "python",
   "nbconvert_exporter": "python",
   "pygments_lexer": "ipython3",
   "version": "3.7.6"
  }
 },
 "nbformat": 4,
 "nbformat_minor": 4
}
